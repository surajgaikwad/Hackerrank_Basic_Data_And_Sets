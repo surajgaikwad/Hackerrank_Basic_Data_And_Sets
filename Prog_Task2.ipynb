{
 "cells": [
  {
   "cell_type": "markdown",
   "id": "fb3272e0",
   "metadata": {},
   "source": [
    "### Suraj Bhalchandra Gaikwad \n",
    "### Programming Task 2 \n",
    "### Hacker Rank Problems Basic Data Types and Sets Subdomain"
   ]
  },
  {
   "cell_type": "code",
   "execution_count": 1,
   "id": "b2011ce4",
   "metadata": {
    "scrolled": true
   },
   "outputs": [
    {
     "name": "stdout",
     "output_type": "stream",
     "text": [
      "1\n",
      "2\n",
      "5\n",
      "6\n",
      "[[0, 0, 0], [0, 0, 1], [0, 0, 2], [0, 0, 3], [0, 0, 4], [0, 0, 5], [0, 1, 0], [0, 1, 1], [0, 1, 2], [0, 1, 3], [0, 1, 4], [0, 2, 0], [0, 2, 1], [0, 2, 2], [0, 2, 3], [0, 2, 5], [1, 0, 0], [1, 0, 1], [1, 0, 2], [1, 0, 3], [1, 0, 4], [1, 1, 0], [1, 1, 1], [1, 1, 2], [1, 1, 3], [1, 1, 5], [1, 2, 0], [1, 2, 1], [1, 2, 2], [1, 2, 4], [1, 2, 5]]\n"
     ]
    }
   ],
   "source": [
    "# List Comprehensions\n",
    "# Problem Statement Link - https://www.hackerrank.com/challenges/list-comprehensions/problem\n",
    "\n",
    "if __name__ == '__main__':\n",
    "    x = int(input())\n",
    "    y = int(input())\n",
    "    z = int(input())\n",
    "    n = int(input())\n",
    "    ans=[[i,j,k] for i in range(x+1) for j in range(y+1) for k in range(z+1) if (i+j+k)!=n]\n",
    "    print(ans)"
   ]
  },
  {
   "cell_type": "code",
   "execution_count": 3,
   "id": "de80b539",
   "metadata": {},
   "outputs": [
    {
     "name": "stdout",
     "output_type": "stream",
     "text": [
      "5\n",
      "2 3 6 6 5 \n",
      "5\n"
     ]
    }
   ],
   "source": [
    "# Find the Runner-Up Score!\n",
    "# Problem Statement Link - https://www.hackerrank.com/challenges/find-second-maximum-number-in-a-list/problem\n",
    "\n",
    "if __name__ == '__main__':\n",
    "    n = int(input())\n",
    "    arr = map(int, input().split())\n",
    "    arr=set(arr)\n",
    "    arr=list(arr)\n",
    "    arr.sort(reverse=True)\n",
    "    print(arr[1])\n"
   ]
  },
  {
   "cell_type": "code",
   "execution_count": 7,
   "id": "141d8cf9",
   "metadata": {},
   "outputs": [
    {
     "name": "stdout",
     "output_type": "stream",
     "text": [
      "5\n",
      "Harry\n",
      "37.21\n",
      "Berry\n",
      "37.21\n",
      "tina\n",
      "37.2\n",
      "akriti\n",
      "39.5\n",
      "harsh\n",
      "36\n",
      "tina\n"
     ]
    }
   ],
   "source": [
    "#Nested Lists\n",
    "#Problem Statement Link - https://www.hackerrank.com/challenges/nested-list/problem\n",
    "\n",
    "if __name__ == '__main__':\n",
    "    thisdict={}\n",
    "    for _ in range(int(input())):\n",
    "        name = input()\n",
    "        score = float(input())\n",
    "        thisdict.update({name:score})  \n",
    "    #names=thisdict.keys()\n",
    "    scores=thisdict.values()\n",
    "    scores=set(scores)\n",
    "    scores=list(scores)\n",
    "    scores.sort()\n",
    "    x=scores[1]\n",
    "    mylist=[y for y,k in thisdict.items() if k==x]\n",
    "    mylist.sort()\n",
    "    for i in mylist:\n",
    "        print(i)   "
   ]
  },
  {
   "cell_type": "code",
   "execution_count": 8,
   "id": "d73a48c3",
   "metadata": {},
   "outputs": [
    {
     "name": "stdout",
     "output_type": "stream",
     "text": [
      "3\n",
      "Krishna 67 68 69\n",
      "Arjun 70 98 63\n",
      "Malika 52 56 60\n",
      "Malika\n",
      "56.00\n"
     ]
    }
   ],
   "source": [
    "# Finding the percentage \n",
    "# Problem Statement Link - https://www.hackerrank.com/challenges/finding-the-percentage/problem\n",
    "\n",
    "if __name__ == '__main__':\n",
    "    n = int(input())\n",
    "    student_marks = {}\n",
    "    for _ in range(n):\n",
    "        name, *line = input().split()\n",
    "        scores = list(map(float, line))\n",
    "        student_marks[name] = scores\n",
    "    query_name = input()\n",
    "    ans=sum(student_marks[query_name])/3\n",
    "    print(\"{:.2f}\".format(ans))\n"
   ]
  },
  {
   "cell_type": "code",
   "execution_count": 9,
   "id": "2e54e0c4",
   "metadata": {},
   "outputs": [
    {
     "name": "stdout",
     "output_type": "stream",
     "text": [
      "12\n",
      "insert 0 5\n",
      "insert 1 10\n",
      "insert 0 6\n",
      "print\n",
      "[6, 5, 10]\n",
      "remove 6\n",
      "append 9\n",
      "append 1\n",
      "sort\n",
      "print\n",
      "[1, 5, 9, 10]\n",
      "pop\n",
      "reverse\n",
      "print\n",
      "[9, 5, 1]\n"
     ]
    }
   ],
   "source": [
    "# Lists\n",
    "# Problem Statement Link - https://www.hackerrank.com/challenges/python-lists/problem\n",
    "\n",
    "if __name__ == '__main__':\n",
    "    N = int(input())\n",
    "    l=[]\n",
    "    for i in range(N):\n",
    "        s=list(input().split())\n",
    "        if s[0]==\"insert\":\n",
    "            l.insert(int(s[1]),int(s[2]))\n",
    "        if s[0]==\"print\":\n",
    "            print(l)\n",
    "        if s[0]==\"remove\":\n",
    "            l.remove(int(s[1]))\n",
    "        if s[0]==\"append\":\n",
    "            l.append(int(s[1]))\n",
    "        if s[0]==\"sort\":\n",
    "            l.sort()\n",
    "        if s[0]==\"pop\":\n",
    "            l.pop()\n",
    "        if s[0]==\"reverse\":\n",
    "            l.reverse()\n",
    "                        "
   ]
  },
  {
   "cell_type": "code",
   "execution_count": 10,
   "id": "91d8b6a2",
   "metadata": {},
   "outputs": [
    {
     "name": "stdout",
     "output_type": "stream",
     "text": [
      "2\n",
      "1 2\n",
      "-3550055125485641917\n"
     ]
    }
   ],
   "source": [
    "#Tuples\n",
    "# Problem Statement Link - https://www.hackerrank.com/challenges/python-tuples/problem\n",
    "if __name__ == '__main__':\n",
    "    n = int(input())\n",
    "    integer_list =[int(x) for x in input().split()]\n",
    "    t=tuple(integer_list)\n",
    "    print(hash(t))"
   ]
  },
  {
   "cell_type": "code",
   "execution_count": 2,
   "id": "3319a168",
   "metadata": {},
   "outputs": [
    {
     "name": "stdout",
     "output_type": "stream",
     "text": [
      "3 2\n",
      "1 5 3\n",
      "3 1\n",
      "5 7 \n",
      "1\n"
     ]
    }
   ],
   "source": [
    "# No idea ! \n",
    "# Problem Statement link - https://www.hackerrank.com/challenges/no-idea/problem\n",
    "n, m = input().split()\n",
    "arr = input().split()\n",
    "\n",
    "A = set(input().split())\n",
    "B = set(input().split())\n",
    "\n",
    "print (sum([(i in A) - (i in B) for i in arr]))"
   ]
  },
  {
   "cell_type": "code",
   "execution_count": 4,
   "id": "e38a0f16",
   "metadata": {},
   "outputs": [
    {
     "name": "stdout",
     "output_type": "stream",
     "text": [
      "4\n",
      "2 4 5 9\n",
      "4\n",
      "2 4 11 12\n",
      "5\n",
      "9\n",
      "11\n",
      "12\n"
     ]
    }
   ],
   "source": [
    "# Symmetric Difference\n",
    "# Problem Link _ https://www.hackerrank.com/challenges/symmetric-difference/problem\n",
    "a,b = [set(input().split()) for _ in range(4)][1::2]\n",
    "print('\\n'.join(sorted(a^b, key=int)))"
   ]
  },
  {
   "cell_type": "code",
   "execution_count": 6,
   "id": "da8038c3",
   "metadata": {},
   "outputs": [
    {
     "name": "stdout",
     "output_type": "stream",
     "text": [
      "7\n",
      "UK\n",
      "China \n",
      "USA\n",
      "France\n",
      "New Zealand\n",
      "UK\n",
      "France \n",
      "6\n"
     ]
    }
   ],
   "source": [
    "# Set.add()\n",
    "# problem link - https://www.hackerrank.com/challenges/py-set-add/problem?isFullScreen=true\n",
    "n = int(input())\n",
    "names = set([])\n",
    "for i in range(n):\n",
    "    names.add(input())\n",
    "print(len(names))\n"
   ]
  },
  {
   "cell_type": "code",
   "execution_count": null,
   "id": "73c518c5",
   "metadata": {},
   "outputs": [],
   "source": [
    "#Set .discard(), .remove() & .pop()\n",
    "# Problem link - https://www.hackerrank.com/challenges/py-set-discard-remove-pop/problem?isFullScreen=true\n",
    "num = int(input())\n",
    "data = set(map(int, input().split()))\n",
    "ops = int(input())\n",
    "for x in range(ops):\n",
    "  opr = input().split()\n",
    "  if opr[0] == \"remove\":\n",
    "    data.remove(int(opr[1]))\n",
    "  elif opr[0] == \"discard\":\n",
    "    data.discard(int(opr[1]))\n",
    "  else:\n",
    "    data.pop()\n",
    "    \n",
    "print(sum(data))"
   ]
  },
  {
   "cell_type": "code",
   "execution_count": null,
   "id": "a15145f7",
   "metadata": {},
   "outputs": [],
   "source": [
    "#Set .union() Operation\n",
    "# Problem - https://www.hackerrank.com/challenges/py-set-union/problem?isFullScreen=true\n",
    "\n",
    "n1 = int(input())\n",
    "storage1 = set(input().split());\n",
    "\n",
    "n2 = int(input())\n",
    "storage2 = set(input().split());\n",
    "\n",
    "storage3 = storage1.union(storage2)\n",
    "\n",
    "print(len(storage3))"
   ]
  },
  {
   "cell_type": "code",
   "execution_count": null,
   "id": "041cbbe9",
   "metadata": {},
   "outputs": [],
   "source": [
    "# Set .intersection() Operation\n",
    "# https://www.hackerrank.com/challenges/py-set-intersection-operation/problem?isFullScreen=true\n",
    "\n",
    "num1, st1, num2, st2 = (set(input().split()) for i in range(4))\n",
    "print(len(st1.intersection(st2)))"
   ]
  },
  {
   "cell_type": "code",
   "execution_count": null,
   "id": "016b90a4",
   "metadata": {},
   "outputs": [],
   "source": [
    "#Set .difference() Operation\n",
    "# https://www.hackerrank.com/challenges/py-set-difference-operation/problem?isFullScreen=true\n",
    "\n",
    "n1 = int(input())\n",
    "setA = set(map(int,input().split()))\n",
    "n2 = int(input())\n",
    "setB = set(map(int,input().split()))\n",
    "print(len(setA-setB))\n",
    "\n"
   ]
  },
  {
   "cell_type": "code",
   "execution_count": null,
   "id": "4095aac5",
   "metadata": {},
   "outputs": [],
   "source": [
    "#Set .symmetric_difference() Operation\n",
    "# https://www.hackerrank.com/challenges/py-set-symmetric-difference-operation/problem?isFullScreen=true\n",
    "_, a = input(), set(input().split())\n",
    "_, b = input(), set(input().split())\n",
    "print(len(a.symmetric_difference(b)))"
   ]
  },
  {
   "cell_type": "code",
   "execution_count": null,
   "id": "b5634069",
   "metadata": {},
   "outputs": [],
   "source": [
    "#Set Mutations\n",
    "# https://www.hackerrank.com/challenges/py-set-mutations/problem?isFullScreen=true\n",
    "len_set = int(input())\n",
    "\n",
    "storage = set(map(int, input().split()))\n",
    "\n",
    "op_len = int(input())\n",
    "\n",
    "for i in range(op_len):\n",
    "    operation = input().split()\n",
    "    if operation[0] == 'intersection_update':\n",
    "        temp_storage = set(map(int, input().split()))\n",
    "        storage.intersection_update(temp_storage)\n",
    "    elif operation[0] == 'update':\n",
    "        temp_storage = set(map(int, input().split()))\n",
    "        storage.update(temp_storage)\n",
    "    elif operation[0] == 'symmetric_difference_update':\n",
    "        temp_storage = set(map(int, input().split()))\n",
    "        storage.symmetric_difference_update(temp_storage)\n",
    "    elif operation[0] == 'difference_update':\n",
    "        temp_storage = set(map(int, input().split()))\n",
    "        storage.difference_update(temp_storage)\n",
    "    else :\n",
    "        assert False\n",
    "\n",
    "print(sum(storage))"
   ]
  },
  {
   "cell_type": "code",
   "execution_count": null,
   "id": "21d23206",
   "metadata": {},
   "outputs": [],
   "source": [
    "#The Captain's Room\n",
    "# https://www.hackerrank.com/challenges/py-the-captains-room/problem?isFullScreen=true\n",
    "k = int(input())\n",
    "rooms = list(map(int, input().split()))\n",
    "roomSet = set(rooms)\n",
    "roomSum = sum(rooms)\n",
    "roomSetSum = sum(roomSet) * k\n",
    "captiansRoom = (roomSetSum - roomSum) // (k - 1)\n",
    "print(captiansRoom)\n"
   ]
  },
  {
   "cell_type": "code",
   "execution_count": null,
   "id": "bbe91080",
   "metadata": {},
   "outputs": [],
   "source": [
    "# Check Subset\n",
    "# https://www.hackerrank.com/challenges/py-check-subset/problem?isFullScreen=true\n",
    "for i in range(int(input())):\n",
    "    a = int(input())\n",
    "    seta = set(map(int, input().split()))\n",
    "\n",
    "    b = int(input())\n",
    "    setb = set(map(int, input().split()))\n",
    "\n",
    "    if len(seta - setb) == 0:\n",
    "        print(\"True\")\n",
    "    else:\n",
    "        print(\"False\")"
   ]
  },
  {
   "cell_type": "code",
   "execution_count": null,
   "id": "c9355761",
   "metadata": {},
   "outputs": [],
   "source": [
    "# Check Strict Superset\n",
    "# https://www.hackerrank.com/challenges/py-check-strict-superset/problem?isFullScreen=true\n",
    "\n",
    "storage = set(input().split())\n",
    "N = int(input())\n",
    "output = True\n",
    "\n",
    "for i in range(N):\n",
    "    storage2 = set(input().split())\n",
    "    if not storage2.issubset(storage):\n",
    "        output = False\n",
    "    if len(storage2) >= len(storage):\n",
    "        output = False\n",
    "\n",
    "print(output)"
   ]
  }
 ],
 "metadata": {
  "kernelspec": {
   "display_name": "Python 3 (ipykernel)",
   "language": "python",
   "name": "python3"
  },
  "language_info": {
   "codemirror_mode": {
    "name": "ipython",
    "version": 3
   },
   "file_extension": ".py",
   "mimetype": "text/x-python",
   "name": "python",
   "nbconvert_exporter": "python",
   "pygments_lexer": "ipython3",
   "version": "3.10.0"
  }
 },
 "nbformat": 4,
 "nbformat_minor": 5
}
